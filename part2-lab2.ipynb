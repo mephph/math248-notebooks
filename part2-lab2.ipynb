{
 "cells": [
  {
   "cell_type": "markdown",
   "metadata": {},
   "source": [
    "# Model Solution for Part 2 Lab 2\n",
    "\n",
    "Written by Charlie Watson (dch.watson@gmail.com) for University of Victoria MATH/PHYS 248 Winter 2018."
   ]
  },
  {
   "cell_type": "code",
   "execution_count": 1,
   "metadata": {
    "collapsed": true
   },
   "outputs": [],
   "source": [
    "import sympy as sp\n",
    "import numpy as np\n",
    "import matplotlib.pyplot as plt\n",
    "\n",
    "x = sp.Symbol('x')"
   ]
  },
  {
   "cell_type": "markdown",
   "metadata": {},
   "source": [
    "## Part A"
   ]
  },
  {
   "cell_type": "markdown",
   "metadata": {},
   "source": [
    "### Newton's Method\n",
    "\n",
    "\n",
    "#### Pseudocode\n",
    "\n",
    "Possible pseudocode for Newton's method:\n",
    "\n",
    "1. Set `xi` to a starting value.\n",
    "2. Plug `xi` into $x - \\frac{f(x)}{f'(x)}$ to get next value for `xi`.\n",
    "3. If formula fails because derivative is zero, raise exception or return `NaN`.\n",
    "4. If `f(xi)` is close enough to zero, stop and return `xi`.\n",
    "5. If loop has continued too long, raise exception or return `NaN`.\n",
    "6. Return to step 2.\n",
    "\n",
    "Arguments must include:\n",
    "\n",
    "* A function of one variable\n",
    "* A starting value\n",
    "\n",
    "Arguments _should_ include\n",
    "\n",
    "* A tolerance within which to consider a root found\n",
    "* A maximum number of iterations\n",
    "\n",
    "#### Code Considerations\n",
    "\n",
    "##### How to decide if `f` is close to zero?\n",
    "\n",
    "This one is pretty easy. $f(x)$ is close to zero if $\\left\\lvert f(x) \\right\\rvert < \\epsilon$ for some small number $\\epsilon$. In Python I can write this as\n",
    "\n",
    "```python\n",
    "if abs(f(xi)) < tol:\n",
    "```\n",
    "\n",
    "where `tol` is the tolerance.\n",
    "\n",
    "##### Which sort of loop?\n",
    "\n",
    "I have to choose which sort of loop to use in my function. I've stated before the rule-of-thumb\n",
    "\n",
    "> If you know how many times the loop will run, use a `for` loop. If you don't, use a `while` loop.\n",
    "\n",
    "However, this loop is a bit of both. I don't know exactly how many times it will run before converging, but I am setting a _maximum_ number of iterations. There's no perfect rule for this sort of situation, but I'm going to use a `for` loop with a `break` statement. It will look like\n",
    "\n",
    "```python\n",
    "for i in range(maximum_iterations):\n",
    "    xi = something\n",
    "    \n",
    "    if abs(f(xi)) < tol:\n",
    "        break\n",
    "```\n",
    "\n",
    "The `break` statement forces the program to exit the `for` loop early. An alternative with a `while` loop would look like\n",
    "\n",
    "```python\n",
    "i = 0\n",
    "\n",
    "while abs(f(xi)) >= tol:\n",
    "    xi = something\n",
    "    i += 1\n",
    "    \n",
    "    if i >= maximum_iterations:\n",
    "        break\n",
    "```\n",
    "\n",
    "The method with a `for` loop is cleaner. The `for` loop also protects you from a serious error: if you forget `i += 1` in the `while` loop, your function could enter an infinite loop!\n",
    "\n",
    "##### How to check for a zero denominator?\n",
    "\n",
    "There are two ways to handle this:\n",
    "\n",
    "* An explicit check for $f'(x_i) = 0$\n",
    "* A `try-except` block\n",
    "\n",
    "An explicit check for a zero denominator could look like:\n",
    "\n",
    "```python\n",
    "f_deriv = sp.lambdify(x, f(x).diff(x))\n",
    "\n",
    "if f_deriv(xi) == 0:\n",
    "    xi = np.nan\n",
    "    break\n",
    "```\n",
    "\n",
    "I've chosen to return NumPy's NaN (Not A Number) as it will make it easier to ignore bad starting values later. In general the better option is often to raise an [exception](https://docs.python.org/3/tutorial/errors.html) (such as a `ValueError`).\n",
    "\n",
    "I could also use Python's [exception system](https://docs.python.org/3/tutorial/errors.html) to catch _any_ arithmetic errors that crop up in Newton's method with a `try-except` block, but that's a more advanced topic. Feel free to ask me in lab or office hours if no one has other questions.\n",
    "\n",
    "##### What to Do if it Runs for Too Long?\n",
    "\n",
    "If Newton's Method does converge within the maximum number of iterations, then the `for` loop will exit normally. The easy and correct way to handle this in Python is with the [`for` loop's `else` clause](https://docs.python.org/2/tutorial/controlflow.html#break-and-continue-statements-and-else-clauses-on-loops). Any code in the `else` clause will run _only if_ the `for` loop wasn't ended early with a `break` statement.\n",
    "\n",
    "#### Code For Newton's Method"
   ]
  },
  {
   "cell_type": "code",
   "execution_count": 2,
   "metadata": {
    "collapsed": true
   },
   "outputs": [],
   "source": [
    "def newtons_method(f, start, tol=1E-3, max_iters=20):\n",
    "    \"\"\"Approximate a root using Newton's method.\n",
    "    \n",
    "    Arguments:\n",
    "        f:         A SymPy function of one variable.\n",
    "        start:     A starting point for iteration.\n",
    "        tol:       Maximum distance from zero to consider converged.\n",
    "        max_iters: Maximum number of iterations to allow.\n",
    "    \n",
    "    Returns:\n",
    "        An approximation of a root of f, or numpy.nan if convergence fails.\n",
    "    \"\"\"\n",
    "    # Local name for the variable in f.\n",
    "    x = sp.Dummy('x')\n",
    "    \n",
    "    # The iteration in Newton's method, described above.\n",
    "    next_step = sp.lambdify(x, x - f(x) / sp.diff(f(x), x))\n",
    "    \n",
    "    # The derivative of f. Will be used to avoid division by zero.\n",
    "    # diff returns an expression, not a function, so lambdify is needed again.\n",
    "    f_deriv = sp.lambdify(x, f(x).diff(x))\n",
    "    \n",
    "    # The root approximation in the current iteration.\n",
    "    xi = start\n",
    "    \n",
    "    for i in range(max_iters):\n",
    "        # Check that derivative is not zero, so next x-value is defined.\n",
    "        if f_deriv(xi) == 0:\n",
    "            xi = np.nan\n",
    "            break\n",
    "        \n",
    "        xi = next_step(xi)\n",
    "        \n",
    "        # End iteration if new approximation is close enough to a root.\n",
    "        # SymPy has an Abs function, but it's an alias for Python's abs.\n",
    "        if abs(f(xi)) <= tol:\n",
    "            break\n",
    "    # If the for loop ran to completion, then the function never got close enough to zero to be a root.\n",
    "    else:\n",
    "        xi = np.nan\n",
    "        \n",
    "    return xi"
   ]
  },
  {
   "cell_type": "markdown",
   "metadata": {},
   "source": [
    "#### Tests for Newton's Method\n",
    "\n",
    "Check if it correctly finds $\\sqrt{2}$ for $x^2-2$."
   ]
  },
  {
   "cell_type": "code",
   "execution_count": 3,
   "metadata": {},
   "outputs": [
    {
     "data": {
      "text/plain": [
       "2.1239014147411694e-06"
      ]
     },
     "execution_count": 3,
     "metadata": {},
     "output_type": "execute_result"
    }
   ],
   "source": [
    "f = sp.lambdify(x, x**2-2)\n",
    "abs(newtons_method(f, 1) - 2**(1/2))"
   ]
  },
  {
   "cell_type": "markdown",
   "metadata": {},
   "source": [
    "That is definitely within $10^{-3}$ of $\\sqrt{2}$. What about $\\pi$ for $\\sin(x)$?"
   ]
  },
  {
   "cell_type": "code",
   "execution_count": 4,
   "metadata": {},
   "outputs": [
    {
     "data": {
      "text/plain": [
       "2.8931612661153849e-10"
      ]
     },
     "execution_count": 4,
     "metadata": {},
     "output_type": "execute_result"
    }
   ],
   "source": [
    "abs(newtons_method(sp.sin, 3, tol=1E-8) - np.pi)"
   ]
  },
  {
   "cell_type": "markdown",
   "metadata": {},
   "source": [
    "Once again, the returned value is within the required tolerance.\n",
    "\n",
    "Newton's Method _should not_ converge for $x^2-2$ if it starts at 0."
   ]
  },
  {
   "cell_type": "code",
   "execution_count": 5,
   "metadata": {},
   "outputs": [
    {
     "data": {
      "text/plain": [
       "nan"
      ]
     },
     "execution_count": 5,
     "metadata": {},
     "output_type": "execute_result"
    }
   ],
   "source": [
    "f = sp.lambdify(x, x**2-2)\n",
    "newtons_method(f, 0)"
   ]
  },
  {
   "cell_type": "markdown",
   "metadata": {},
   "source": [
    "Newton's Method _should not_ converge for $x^2+1$, as it has no (real) roots."
   ]
  },
  {
   "cell_type": "code",
   "execution_count": 6,
   "metadata": {},
   "outputs": [
    {
     "data": {
      "text/plain": [
       "nan"
      ]
     },
     "execution_count": 6,
     "metadata": {},
     "output_type": "execute_result"
    }
   ],
   "source": [
    "f = sp.lambdify(x, x**2 + 1)\n",
    "newtons_method(f, 0)"
   ]
  },
  {
   "cell_type": "markdown",
   "metadata": {},
   "source": [
    "### Plotting Basins of Attraction\n",
    "\n",
    "#### Vectorizing newtons_method\n",
    "\n",
    "To generate the plot I could write a `for` loop that runs `newtons_method` for every value in some interval. However, NumPy has something to do that for me: `vectorize`. However, if I run\n",
    "\n",
    "```python\n",
    "newtons_method = np.vectorize(newtons_method)\n",
    "```\n",
    "\n",
    "I won't get what I want, because I only want to transform the _second_ argument. I can do that with the `excluded` argument of `vectorize`. I want to exclude the first positional argument (`f`, at index 0) and the two keyword arguments `tol` and `max_iters`."
   ]
  },
  {
   "cell_type": "code",
   "execution_count": 7,
   "metadata": {
    "collapsed": true
   },
   "outputs": [],
   "source": [
    "newtons_method = np.vectorize(newtons_method, excluded=[0, 'tol', 'max_iters'])"
   ]
  },
  {
   "cell_type": "markdown",
   "metadata": {},
   "source": [
    "One note of caution! `newtons_method` will now _always_ return a NumPy array."
   ]
  },
  {
   "cell_type": "code",
   "execution_count": 8,
   "metadata": {},
   "outputs": [
    {
     "data": {
      "text/plain": [
       "array(1.4142156862745099)"
      ]
     },
     "execution_count": 8,
     "metadata": {},
     "output_type": "execute_result"
    }
   ],
   "source": [
    "f = sp.lambdify(x, x**2 - 2)\n",
    "newtons_method(f, 1)"
   ]
  },
  {
   "cell_type": "markdown",
   "metadata": {},
   "source": [
    "I can test it with $x(x-1)(x+1)$."
   ]
  },
  {
   "cell_type": "code",
   "execution_count": 9,
   "metadata": {},
   "outputs": [
    {
     "data": {
      "text/plain": [
       "array([ -1.00000000e+00,  -1.00000000e+00,  -1.00000000e+00,\n",
       "        -1.00000003e+00,   8.05327755e-14,  -8.05327755e-14,\n",
       "         1.00000003e+00,   1.00000000e+00,   1.00000000e+00,\n",
       "         1.00000000e+00])"
      ]
     },
     "execution_count": 9,
     "metadata": {},
     "output_type": "execute_result"
    }
   ],
   "source": [
    "f = sp.lambdify(x, x*(x-1)*(x+1))\n",
    "newtons_method(f, np.linspace(-2, 2, 10), tol=1E-7)"
   ]
  },
  {
   "cell_type": "markdown",
   "metadata": {},
   "source": [
    "#### Code Basin Plots\n",
    "\n",
    "The code is now fairly straightforward, since the vectorized `newtons_method` does most of the work for us. Simply generate the x-values, run `newtons_method`, plot the function, and plot the roots."
   ]
  },
  {
   "cell_type": "code",
   "execution_count": 10,
   "metadata": {
    "collapsed": true
   },
   "outputs": [],
   "source": [
    "def plot_roots(f, a, b, n=100):\n",
    "    \"\"\"Create and show a plot of f and its attracting roots at various points.\n",
    "    \n",
    "    Arguments:\n",
    "        f: A SymPy function of one variable.\n",
    "        a: The left end-point of the interval.\n",
    "        b: The right end-point of the interval\n",
    "        n: The number of points to sample in the interval.\n",
    "    \"\"\"\n",
    "    # The x-values to run Newton's Method with.\n",
    "    roots_interval = np.linspace(a, b, n)\n",
    "    # The x-values for the plot of f.\n",
    "    plot_interval = np.linspace(a, b, 100)\n",
    "    \n",
    "    # The roots to which each x-value converges.\n",
    "    roots = newtons_method(f, roots_interval)\n",
    "    \n",
    "    # Graph of f\n",
    "    plt.plot(plot_interval, [f(xi) for xi in plot_interval], 'r-')\n",
    "    # Attracting roots\n",
    "    plt.plot(roots_interval, roots, 'bo', markersize=0.5)\n",
    "    # Visible x-axis to show roots.\n",
    "    plt.plot([a, b], [0, 0], 'black')\n",
    "    # Uncluttered x-axis.\n",
    "    plt.xticks(np.linspace(a, b, 5))\n",
    "    plt.show()"
   ]
  },
  {
   "cell_type": "markdown",
   "metadata": {},
   "source": [
    "#### Testing plot_roots"
   ]
  },
  {
   "cell_type": "code",
   "execution_count": 11,
   "metadata": {},
   "outputs": [
    {
     "data": {
      "image/png": "[encoded data removed]",
      "text/plain": [
       "<matplotlib.figure.Figure at 0x7fc58b07ecf8>"
      ]
     },
     "metadata": {},
     "output_type": "display_data"
    }
   ],
   "source": [
    "f = sp.lambdify(x, x * (x-1) * (x+1))\n",
    "plot_roots(f, -2, 2)"
   ]
  },
  {
   "cell_type": "code",
   "execution_count": 12,
   "metadata": {},
   "outputs": [
    {
     "data": {
      "image/png": "[encoded data removed]",
      "text/plain": [
       "<matplotlib.figure.Figure at 0x7fc57c50af28>"
      ]
     },
     "metadata": {},
     "output_type": "display_data"
    }
   ],
   "source": [
    "plot_roots(sp.sin, -3*np.pi, 3*np.pi)"
   ]
  },
  {
   "cell_type": "markdown",
   "metadata": {},
   "source": [
    "This one looks a bit strange. The roots are very high and low because Newton's Method doesn't converge to the root you'd expect when it starts near a critical point of $\\sin$. To compensate for this I could vertically squash the root plot. A common and easy way to squash values into a small interval is $\\arctan$, since it is smooth, bijective, and has a bounded range (i.e. $(-\\frac{\\pi}{2}, \\frac{\\pi}{2})$).\n",
    "\n",
    "I could simply change the root plotting line of `plot_roots` to\n",
    "\n",
    "```python\n",
    "plt.plot(roots_interval, np.arctan(roots), 'bo', markersize=0.5)\n",
    "```\n",
    "\n",
    "Alternatively, I could discard roots that lie outside of the interval $[a, b]$."
   ]
  },
  {
   "cell_type": "code",
   "execution_count": 13,
   "metadata": {},
   "outputs": [
    {
     "data": {
      "image/png": "[encoded data removed]",
      "text/plain": [
       "<matplotlib.figure.Figure at 0x7fc57c46eb70>"
      ]
     },
     "metadata": {},
     "output_type": "display_data"
    }
   ],
   "source": [
    "plot_roots(sp.cos, -np.pi, np.pi)"
   ]
  },
  {
   "cell_type": "markdown",
   "metadata": {},
   "source": [
    "This plot shows the problem even more severely."
   ]
  },
  {
   "cell_type": "markdown",
   "metadata": {},
   "source": [
    "## Part B\n",
    "\n",
    "### Pseudocode\n",
    "\n",
    "1. Generate a 2D array of complex numbers to start Newton's Method with.\n",
    "2. Run Newton's method on each of those complex numbers and store the results.\n",
    "3. For each result\n",
    "    1. Find the closest true root\n",
    "    2. Colour the corresponding pixel according the true root\n",
    "4. Create an image with the given grid of colours.\n",
    "\n",
    "### Generating Complex Domains\n",
    "\n",
    "It's easy to create a list of evenly spaced real numbers with NumPy: just use `linspace`. It's not much harder to make a similar 2D grid, but there's no built-in for it.\n",
    "\n",
    "First create the x- and y-coordinates with `meshgrid` or `mgrid` (`meshgrid` if you want to specify the coordinates manually, `mgrid` if you want to specify them like a slice). Second add the x-coordinates plus $i$ times the y-coordinates. If you haven't used `mgrid`, see the [documentation](https://docs.scipy.org/doc/numpy/reference/generated/numpy.mgrid.html)."
   ]
  },
  {
   "cell_type": "code",
   "execution_count": 14,
   "metadata": {
    "collapsed": true
   },
   "outputs": [],
   "source": [
    "def complex_space(real_min, real_max, imag_min, imag_max, real_n, imag_n):\n",
    "    \"\"\"A 2D NumPy array of complex numbers, evenly spaced along each axis.\n",
    "    \n",
    "    Arguments:\n",
    "        real_min: Minimum value along the real axis.\n",
    "        real_max: Maximum value along the real axis.\n",
    "        imag_min: Minimum value along the imaginary axis.\n",
    "        imag_max: Maximum value along the imaginary axis.\n",
    "        real_n:   Number of points along the real axis.\n",
    "        imag_n:   Number of points along the imaginary axis.\n",
    "        \n",
    "    Returns:\n",
    "        A (real_n, imag_n)-shaped NumPy array of complex numbers.\n",
    "    \"\"\"\n",
    "    # The imaginary part goes from max to min because matrix indices increase downwards,\n",
    "    # but Cartesian coordinates increase upwards.\n",
    "    xs, ys = np.mgrid[real_min:real_max:real_n*1j, imag_max:imag_min:imag_n*1j]\n",
    "    \n",
    "    # Tranpose is necessary because matrix indices are vertical first (row, column), but\n",
    "    # Cartesian coordinates are horizontal first (x, y).\n",
    "    return (xs + 1j*ys).transpose()"
   ]
  },
  {
   "cell_type": "markdown",
   "metadata": {},
   "source": [
    "We can test it on $x^2+1$ since it has two complex roots."
   ]
  },
  {
   "cell_type": "code",
   "execution_count": 15,
   "metadata": {},
   "outputs": [
    {
     "data": {
      "text/plain": [
       "array([[-2.+2.j, -1.+2.j,  0.+2.j,  1.+2.j,  2.+2.j],\n",
       "       [-2.+1.j, -1.+1.j,  0.+1.j,  1.+1.j,  2.+1.j],\n",
       "       [-2.+0.j, -1.+0.j,  0.+0.j,  1.+0.j,  2.+0.j],\n",
       "       [-2.-1.j, -1.-1.j,  0.-1.j,  1.-1.j,  2.-1.j],\n",
       "       [-2.-2.j, -1.-2.j,  0.-2.j,  1.-2.j,  2.-2.j]])"
      ]
     },
     "execution_count": 15,
     "metadata": {},
     "output_type": "execute_result"
    }
   ],
   "source": [
    "complex_space(-2, 2, -2, 2, 5, 5)"
   ]
  },
  {
   "cell_type": "code",
   "execution_count": 16,
   "metadata": {},
   "outputs": [
    {
     "data": {
      "text/plain": [
       "array([[  3.60591567e-07+0.99999972j,   0.00000000e+00+1.00000005j,\n",
       "         -3.60591567e-07+0.99999972j],\n",
       "       [             nan+0.j        ,              nan+0.j        ,\n",
       "                     nan+0.j        ],\n",
       "       [  3.60591567e-07-0.99999972j,   0.00000000e+00-1.00000005j,\n",
       "         -3.60591567e-07-0.99999972j]])"
      ]
     },
     "execution_count": 16,
     "metadata": {},
     "output_type": "execute_result"
    }
   ],
   "source": [
    "f = sp.lambdify(x, x**2+1)\n",
    "newtons_method(f, complex_space(-2, 2, -2, 2, 3, 3), tol=1E-6)"
   ]
  },
  {
   "cell_type": "markdown",
   "metadata": {},
   "source": [
    "### Finding the Closest Root\n",
    "\n",
    "After I run Newton's Method on every point in the domain, I need to figure out which true root is closest to each of the results. Keep in mind that Newton's Method likely won't converge to the _exact_ root. Once again, `vectorize` is useful."
   ]
  },
  {
   "cell_type": "code",
   "execution_count": 17,
   "metadata": {
    "collapsed": true
   },
   "outputs": [],
   "source": [
    "def closest_number(x, numbers):\n",
    "    \"\"\"Find closest number in a set of numbers.\n",
    "    \n",
    "    Arguments:\n",
    "        x:       Real or complex number to measure distance from.\n",
    "        numbers: List of real or complex numbers to consider.\n",
    "        \n",
    "    Returns:\n",
    "         A number with minimum distance from x. If multiple numbers are\n",
    "         equally closest to x, any one could be returned.\n",
    "    \"\"\"\n",
    "    # If newtons_method didn't converge, then there is no closest root.\n",
    "    if np.isnan(x):\n",
    "        return None\n",
    "    \n",
    "    # min returns the minimum element of a list. The key argument lets me\n",
    "    # redefine how \"minimum\" is measured. abs(n - x) means the values in\n",
    "    # numbers are sorted by their distance from x.\n",
    "    return min(numbers, key=lambda n: abs(n - x))\n",
    "\n",
    "# I only want to vectorize the first argument, so I exclude the second argument (at index 1).\n",
    "closest_number = np.vectorize(closest_number, excluded=[1])"
   ]
  },
  {
   "cell_type": "markdown",
   "metadata": {},
   "source": [
    "Always remember to test your functions before moving on and using them."
   ]
  },
  {
   "cell_type": "code",
   "execution_count": 18,
   "metadata": {},
   "outputs": [
    {
     "data": {
      "text/plain": [
       "array(2)"
      ]
     },
     "execution_count": 18,
     "metadata": {},
     "output_type": "execute_result"
    }
   ],
   "source": [
    "closest_number(1.8, [0, 1, 2, 3])"
   ]
  },
  {
   "cell_type": "code",
   "execution_count": 19,
   "metadata": {},
   "outputs": [
    {
     "data": {
      "text/plain": [
       "array(1j)"
      ]
     },
     "execution_count": 19,
     "metadata": {},
     "output_type": "execute_result"
    }
   ],
   "source": [
    "closest_number(1, [-2, 1j, 4, -1+1j])"
   ]
  },
  {
   "cell_type": "markdown",
   "metadata": {},
   "source": [
    "### Code to Create the Image\n",
    "\n",
    "The code to create the array of colours is now fairly simple. Remember that matplotlib specifies colours with a triple of numbers from 0 to 1 for the RGB weights. See the [documentation](https://matplotlib.org/users/colors.html).\n",
    "\n",
    "I've included arguments for tolerance and maximum iterations because this function can take a long time to run. Increasing the tolerance and reducing the maximum number of iterations will both reduce the running time of the function.\n",
    "\n",
    "I use the spelling \"colour\" in English but \"color\" in programming. I find life easier this way. Don't point this out as an error.\n",
    "\n",
    "Notice that I use an asterisk when creating `point_colors`. This is called tuple/argument unpacking and the [Python Tutorial covers it](https://docs.python.org/3/tutorial/controlflow.html#unpacking-argument-lists)."
   ]
  },
  {
   "cell_type": "code",
   "execution_count": 20,
   "metadata": {
    "collapsed": true
   },
   "outputs": [],
   "source": [
    "def plot_roots_complex(f, domain, colors, nonecolor=[0, 0, 0], tol=0.5, max_iters=20):\n",
    "    \"\"\"A 2D array of RGB values indicating which root each point converges to.\n",
    "    \n",
    "    Arguments:\n",
    "        f:          A SymPy function of one variable.\n",
    "        domain:     A 2D array of complex numbers to start Newton's Method with.\n",
    "        colors:     A list of RGB triples, at least as many as f has roots.\n",
    "        nonecolor:  The color for points which don't converge.\n",
    "        tol:        Maximum distance from zero to consider converged.\n",
    "        max_iters:  Maximum number of iterations to allow.\n",
    "        \n",
    "    Returns:\n",
    "        A 2D array of RGB values.\n",
    "    \"\"\"\n",
    "    # Run Newton's Method and match each result with the closest true root.\n",
    "    true_roots = sp.solve(f(x))\n",
    "    approximate_roots = newtons_method(f, domain, tol=tol, max_iters=max_iters)\n",
    "    closest_roots = closest_number(approximate_roots, true_roots)\n",
    "    \n",
    "    # point_colors should have the same shape as domain, but with an additional\n",
    "    # color axis. The color axis must have length 3 for red, green, and blue.\n",
    "    point_colors = np.ndarray(shape=(*domain.shape, 3))\n",
    "    \n",
    "    for i, j in np.ndindex(domain.shape):\n",
    "        root = closest_roots[i, j]\n",
    "        \n",
    "        # If the closest root at (i, j) is None, color it with nonecolor.\n",
    "        if root is None:\n",
    "            point_colors[i, j] = nonecolor\n",
    "        # Otherwise, color it according to the colors argument.\n",
    "        else:\n",
    "            root_index = true_roots.index(root)\n",
    "            point_colors[i, j] = colors[root_index]\n",
    "            \n",
    "    return point_colors"
   ]
  },
  {
   "cell_type": "markdown",
   "metadata": {},
   "source": [
    "### Results!\n",
    "\n",
    "My code takes a a while to run, so I'll test it with a low resolution first."
   ]
  },
  {
   "cell_type": "code",
   "execution_count": 21,
   "metadata": {
    "collapsed": true
   },
   "outputs": [],
   "source": [
    "f = sp.lambdify(x, x**3-1)\n",
    "colors = [[1,0,0], [0,1,0], [0,0,1]]"
   ]
  },
  {
   "cell_type": "code",
   "execution_count": 22,
   "metadata": {},
   "outputs": [
    {
     "data": {
      "image/png": "[encoded data removed]",
      "text/plain": [
       "<matplotlib.figure.Figure at 0x7fc583967a58>"
      ]
     },
     "metadata": {},
     "output_type": "display_data"
    }
   ],
   "source": [
    "n = 10\n",
    "domain = complex_space(-2, 2, -2, 2, n, n)\n",
    "plt.imshow(plot_roots_complex(f, domain, colors))\n",
    "plt.show()"
   ]
  },
  {
   "cell_type": "markdown",
   "metadata": {},
   "source": [
    "Even with a low resolution, that took about five seconds to run on my computer. An 800x800 image would take about $\\frac{800^2}{10^2} = 6400$ times longer. That is, somewhere in the neighbourhood of eight hours. That's obviously unreasonable.\n",
    "\n",
    "Now that my code is clear, correct, and functional, I can worry about making it efficient."
   ]
  },
  {
   "cell_type": "markdown",
   "metadata": {},
   "source": [
    "## Things to Improve\n",
    "\n",
    "* Every call to newtons_method requires recomputing the derivative of f and the formula for `next_step`.\n",
    "    * The [vectorize documentation](https://docs.scipy.org/doc/numpy/reference/generated/numpy.vectorize.html) says \"The `vectorize` function is provided primarily for convenience, not for performance. The implementation is essentially a for loop.\"\n",
    "    * `newtons_method` could be rewritten to take a NumPy array of values and only create `f_deriv` and `next_step` once.\n",
    "* `closest_number` could be rewritten to handle NumPy arrays. It would look something like `numbers[np.argmin(np.abs(numbers - x))]`.\n",
    "* Right now, `plot_roots_complex` assigns a Python list to a NumPy array (`point_colors[i, j] = colors[root_index]`). This means that an RGB tuple is turned into a NumPy array _for each pixel!_ Try creating the arrays once at the beginning of the function.\n",
    "* I don't know if sympy.lambdify returns a function that NumPy can compile nicely. Hard-coding `f`, its derivative, and `next_step` might save a lot of computation time."
   ]
  },
  {
   "cell_type": "markdown",
   "metadata": {
    "collapsed": true
   },
   "source": [
    "## Faster!\n",
    "\n",
    "I won't explain my improved code beyond the above points and the included comments. If you have any questions feel free to ask me in lab or office hours, or by email."
   ]
  },
  {
   "cell_type": "code",
   "execution_count": 23,
   "metadata": {
    "collapsed": true
   },
   "outputs": [],
   "source": [
    "def newtons_method(f, domain, dtype=float, tol=1E-3, max_iters=20):\n",
    "    \"\"\"Approximate a root using Newton's method.\n",
    "    \n",
    "    Arguments:\n",
    "        f:         A SymPy function of one variable.\n",
    "        domain:    A point, or set of points, at which to start Newton's Method.\n",
    "        dtype:     The type for all values.\n",
    "        tol:       Maximum distance from zero to consider converged.\n",
    "        max_iters: Maximum number of iterations to allow.\n",
    "    \n",
    "    Returns:\n",
    "        A NumPy array of approximate roots of f, or numpy.nan if convergence fails.\n",
    "    \"\"\"\n",
    "    # Make sure the domain is a NumPy array.\n",
    "    domain = np.array(domain, dtype=dtype)\n",
    "    \n",
    "    # Local name for the variable.\n",
    "    x = sp.Dummy('x')\n",
    "    \n",
    "    # The iteration in Newton's method, described above.\n",
    "    next_step = sp.lambdify(x, x - f(x) / sp.diff(f(x), x))\n",
    "    \n",
    "    # The derivative of f. Will be used to avoid division by zero.\n",
    "    # diff returns an expression, not a function, so lambdify is needed again.\n",
    "    f_deriv = sp.lambdify(x, f(x).diff(x))\n",
    "    \n",
    "    # The array which will hold the approximate roots for each starting point.\n",
    "    roots = np.empty(shape=domain.shape, dtype=dtype)\n",
    "    \n",
    "    # Run Newton's Method for each point in domain.\n",
    "    for domain_i, xi in np.ndenumerate(domain):\n",
    "        # Iterate at most max_iters times.\n",
    "        for loop_i in range(max_iters):\n",
    "            # Check that derivative is not zero, so next x-value is defined.\n",
    "            if f_deriv(xi) == 0:\n",
    "                xi = np.nan\n",
    "                break\n",
    "\n",
    "            xi = next_step(xi)\n",
    "\n",
    "            # End iteration if new approximation is close enough to a root.\n",
    "            # SymPy has an Abs function, but it's an alias for Python's abs.\n",
    "            if abs(f(xi)) <= tol:\n",
    "                break\n",
    "        # If the for loop ran to completion, then the function never got close\n",
    "        # enough to zero to be a root.\n",
    "        else:\n",
    "            xi = np.nan\n",
    "            \n",
    "        roots[domain_i] = xi\n",
    "        \n",
    "    return roots"
   ]
  },
  {
   "cell_type": "code",
   "execution_count": 24,
   "metadata": {
    "collapsed": true
   },
   "outputs": [],
   "source": [
    "def closest_number(x, numbers, dtype=float):\n",
    "    \"\"\"Find closest number in a set of numbers.\n",
    "    \n",
    "    Arguments:\n",
    "        x:       Real or complex number to measure distance from.\n",
    "        numbers: List of real or complex numbers to consider.\n",
    "        dtype:   The type for all numbers.\n",
    "        \n",
    "    Returns:\n",
    "         A number with minimum distance from x. If multiple numbers are\n",
    "         equally closest to x, any one could be returned.\n",
    "    \"\"\"\n",
    "    numbers = np.array(numbers, dtype=dtype)\n",
    "    \n",
    "    #                        np.abs(numbers - x)   Compute the distance from x to each number\n",
    "    #              mp.argmin(                   )  Find the index of the minimum value\n",
    "    #      numbers[                              ] Get the number at that index\n",
    "    return numbers[np.argmin(np.abs(numbers - x))]\n",
    "\n",
    "# I only want to vectorize the first argument, so I exclude the second argument (at index 1).\n",
    "closest_number = np.vectorize(closest_number, excluded=[1])"
   ]
  },
  {
   "cell_type": "code",
   "execution_count": 25,
   "metadata": {
    "collapsed": true
   },
   "outputs": [],
   "source": [
    "def plot_roots_complex(f, domain, colors, nonecolor=[0, 0, 0], tol=0.5, max_iters=20):\n",
    "    \"\"\"A 2D array of RGB values indicating which root each point converges to.\n",
    "    \n",
    "    Arguments:\n",
    "        f:          A SymPy function of one variable.\n",
    "        domain:     A point, or list of points, with which to start Newton's Method.\n",
    "        colors:     A list of RGB triples, at least as many as f has roots.\n",
    "        nonecolor:  The color for points which don't converge.\n",
    "        tol:        Maximum distance from zero to consider converged.\n",
    "        max_iters:  Maximum number of iterations to allow.\n",
    "        \n",
    "    Returns:\n",
    "        A image with the same dimensions as domain.\n",
    "    \"\"\"\n",
    "    # Run Newton's Method and match each result with the closest true root.\n",
    "    true_roots = np.array(sp.solve(f(x)), dtype=complex)\n",
    "    approximate_roots = newtons_method(f, domain, dtype=complex, tol=tol, max_iters=max_iters)\n",
    "    closest_roots = closest_number(approximate_roots, true_roots, dtype=complex)\n",
    "    \n",
    "    # colors and nonecolor will be repeatedly inserted into a NumPy array. Making\n",
    "    # NumPy arrays now will make that process faster.\n",
    "    colors = np.array(colors)\n",
    "    nonecolor= np.array(nonecolor)\n",
    "    \n",
    "    # point_colors should have the same shape as domain, but with an additional\n",
    "    # color axis. The color axis must have length 3 for red, green, and blue.\n",
    "    point_colors = np.ndarray(shape=(*domain.shape, 3))\n",
    "    \n",
    "    # It isn't necessary to explicitly unpack the index into i and j. I've done it\n",
    "    # here for ease of understanding.\n",
    "    for i, j in np.ndindex(domain.shape):\n",
    "        root = closest_roots[i, j]\n",
    "        \n",
    "        # If the closest root at index (i, j) is None, color it with nonecolor.\n",
    "        if root is None:\n",
    "            point_colors[i, j] = nonecolor\n",
    "        # Otherwise, color it according to the colors argument.\n",
    "        else:\n",
    "            # Find the index of the closest true root.\n",
    "            root_index = np.where(true_roots == root)\n",
    "            # Use the color at that index.\n",
    "            point_colors[i, j] = colors[root_index]\n",
    "            \n",
    "    return plt.imshow(point_colors)"
   ]
  },
  {
   "cell_type": "code",
   "execution_count": 26,
   "metadata": {},
   "outputs": [
    {
     "data": {
      "image/png": "[encoded data removed]",
      "text/plain": [
       "<matplotlib.figure.Figure at 0x7fc57c610c88>"
      ]
     },
     "metadata": {},
     "output_type": "display_data"
    }
   ],
   "source": [
    "f = sp.lambdify(x, x**3-1)\n",
    "domain = complex_space(-2, 2, -2, 2, 800, 800)\n",
    "plot_roots_complex(f, domain, [[1,0,0], [0,1,0], [0,0,1]])\n",
    "plt.show()"
   ]
  },
  {
   "cell_type": "markdown",
   "metadata": {
    "collapsed": true
   },
   "source": [
    "That took about 15 seconds on my computer. There are quite a few ways I could speed up my code, but what I have now is reasonable. I don't want to spend several hours to shave a few seconds off of code that I'll only run a few times."
   ]
  }
 ],
 "metadata": {
  "anaconda-cloud": {},
  "kernelspec": {
   "display_name": "Python 3",
   "language": "python",
   "name": "python3"
  },
  "language_info": {
   "codemirror_mode": {
    "name": "ipython",
    "version": 3
   },
   "file_extension": ".py",
   "mimetype": "text/x-python",
   "name": "python",
   "nbconvert_exporter": "python",
   "pygments_lexer": "ipython3",
   "version": "3.6.3"
  }
 },
 "nbformat": 4,
 "nbformat_minor": 1
}
