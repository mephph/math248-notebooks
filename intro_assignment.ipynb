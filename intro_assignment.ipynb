{
 "cells": [
  {
   "cell_type": "markdown",
   "metadata": {},
   "source": [
    "# Basic Python Programming"
   ]
  },
  {
   "cell_type": "markdown",
   "metadata": {},
   "source": [
    "## Table of Contents\n",
    "\n",
    "* [Task 1: Compute the Mean](#Task-1:-Compute-the-Mean)\n",
    "    * [Description of the Mean](#Description-of-the-Mean)\n",
    "    * [Summing a List of Numbers](#Summing-a-List-of-Numbers)\n",
    "        * [For Loop With an Index](#For-Loop-With-an-Index)\n",
    "        * [For Loop Without an Index](#For-Loop-Without-an-Index)\n",
    "        * [Python Built-In](#Python-Built-In)\n",
    "    * [Your Mean Function](#Your-Mean-Function)\n",
    "* [Task 2: Compute the Variance](#Task-2:-Compute-the-Variance)\n",
    "    * [Description of Variance](#Description-of-Variance)\n",
    "* [Task 3: Compute the Skewness](#Task-3:-Compute-the-Skewness)\n",
    "* [Task 4: Compute Arbitrary Central Moments](#Task-4:-Compute-Arbitrary-Central-Moments)\n",
    "* [Task 5: Assemble Your Statistics Module](#Task-5:-Assemble-Your-Statistics-Module)"
   ]
  },
  {
   "cell_type": "markdown",
   "metadata": {},
   "source": [
    "## Task 1: Compute the Mean"
   ]
  },
  {
   "cell_type": "markdown",
   "metadata": {},
   "source": [
    "### Description of the Mean\n",
    "\n",
    "Consider the dataset of numbers $X = (1, 4, 3, -5, 2)$. For convenience we refer to the individual values with a subscript, so $x_0 = 1$ and $x_3 = -4$. The mean of a dataset, written $\\overline{x}$ or $\\mu$, is one way to measure its centre (the other common ways being median and mode). To compute the mean we must add up the numbers in the set and divide by the number of numbers in the set. That is\n",
    "\n",
    "$$\n",
    "\\overline{x} = \\frac{1+4+3-5+2}{5} = 1 .\n",
    "$$\n",
    "\n",
    "For a general dataset $(x_0, x_1, \\dots, x_{n+1})$, the mean is\n",
    "\n",
    "$$\n",
    "\\overline{x} = \\frac{x_0+x_2+\\dots+x_{n-1}}{n}.\n",
    "$$\n",
    "\n",
    "We can write this a bit more compactly with big-sigma notation, like\n",
    "\n",
    "$$\n",
    "\\overline{x} = \\frac{1}{n} \\sum_{i=0}^{n-1} x_i .\n",
    "$$\n",
    "\n",
    "You will write a function that computes the mean of a list of numbers. However, first we must work out how to sum a list of numbers. We'll use the list `[1, 4, 3, -5, 2]` for experiments."
   ]
  },
  {
   "cell_type": "code",
   "execution_count": 1,
   "metadata": {
    "collapsed": true
   },
   "outputs": [],
   "source": [
    "data = [1, 4, 3, -5, 2]"
   ]
  },
  {
   "cell_type": "markdown",
   "metadata": {},
   "source": [
    "### Summing a List of Numbers"
   ]
  },
  {
   "cell_type": "markdown",
   "metadata": {},
   "source": [
    "#### For Loop With an Index\n",
    "\n",
    "First I'll write at pseudocode for summing a list. Remember, pseudocode is just a rough statement of the steps, not real Python code.\n",
    "\n",
    "```\n",
    "For each index, i, from 0 to the last\n",
    "    Add the number at index i to the sum\n",
    "```\n",
    "\n",
    "There are three parts to this: iterating over all indices from 0 to $n$, looking up the number at that index, and adding that number to a sum variable.\n",
    "\n",
    "Python's `range` function will generate the list of indices from 0 to $n$, but how do I get $n$? $n$ is the number of numbers in the list, which is returned by Python's `len` function. So `range(len(data))` will return the list `0, 1, 2, ..., n-1` (remember that `range` doesn't return the ending value).\n",
    "\n",
    "`i` is the usual name for an index, so I can iterate over the indices of the list with the line\n",
    "\n",
    "```python\n",
    "for i in range(len(data)):\n",
    "```\n",
    "\n",
    "Inside the `for` loop we have to look up the number at index `i` and add it to the sum. `sum` is a special name in Python, so I'll name the sum `s`. To look up something in a list in Python (and most programming languages) you use square brackets, like `data[i]`. To add something to a variable you use the `+=` operator. The for loop will then look like\n",
    "\n",
    "```python\n",
    "for i range(len(data)):\n",
    "    s += data[i]\n",
    "```\n",
    "\n",
    "However, if you run this code, you get an error."
   ]
  },
  {
   "cell_type": "code",
   "execution_count": 2,
   "metadata": {},
   "outputs": [
    {
     "ename": "NameError",
     "evalue": "name 's' is not defined",
     "output_type": "error",
     "traceback": [
      "\u001b[0;31m---------------------------------------------------------------------------\u001b[0m",
      "\u001b[0;31mNameError\u001b[0m                                 Traceback (most recent call last)",
      "\u001b[0;32m<ipython-input-2-b24a16bb3a02>\u001b[0m in \u001b[0;36m<module>\u001b[0;34m()\u001b[0m\n\u001b[1;32m      1\u001b[0m \u001b[0;32mfor\u001b[0m \u001b[0mi\u001b[0m \u001b[0;32min\u001b[0m \u001b[0mrange\u001b[0m\u001b[0;34m(\u001b[0m\u001b[0mlen\u001b[0m\u001b[0;34m(\u001b[0m\u001b[0mdata\u001b[0m\u001b[0;34m)\u001b[0m\u001b[0;34m)\u001b[0m\u001b[0;34m:\u001b[0m\u001b[0;34m\u001b[0m\u001b[0m\n\u001b[0;32m----> 2\u001b[0;31m     \u001b[0ms\u001b[0m \u001b[0;34m+=\u001b[0m \u001b[0mdata\u001b[0m\u001b[0;34m[\u001b[0m\u001b[0mi\u001b[0m\u001b[0;34m]\u001b[0m\u001b[0;34m\u001b[0m\u001b[0m\n\u001b[0m",
      "\u001b[0;31mNameError\u001b[0m: name 's' is not defined"
     ]
    }
   ],
   "source": [
    "for i in range(len(data)):\n",
    "    s += data[i]"
   ]
  },
  {
   "cell_type": "markdown",
   "metadata": {},
   "source": [
    "I've told Python to add to `s`, but I didn't give it a value to start with (called \"initializing\"). That's easily fixed by assigning 0 to `s`."
   ]
  },
  {
   "cell_type": "code",
   "execution_count": 3,
   "metadata": {},
   "outputs": [
    {
     "name": "stdout",
     "output_type": "stream",
     "text": [
      "5\n"
     ]
    }
   ],
   "source": [
    "s= 0\n",
    "\n",
    "for i in range(len(data)):\n",
    "    s += data[i]\n",
    "    \n",
    "print(s)"
   ]
  },
  {
   "cell_type": "markdown",
   "metadata": {},
   "source": [
    "Finally, I can wrap this in a function which takes a list and returns the sum. Again, `sum` is a special name in Python, but I can use `my_sum`."
   ]
  },
  {
   "cell_type": "code",
   "execution_count": 4,
   "metadata": {
    "collapsed": true
   },
   "outputs": [],
   "source": [
    "def my_sum(lst):\n",
    "    \"\"\"Add up the values in a list.\n",
    "    \n",
    "    Arguments\n",
    "        lst: A list of numbers.\n",
    "        \n",
    "    Returns:\n",
    "        The sum of the numbers in the list.\n",
    "    \"\"\"\n",
    "    s = 0\n",
    "    \n",
    "    for i in range(len(lst)):\n",
    "        s += lst[i]\n",
    "        \n",
    "    return s"
   ]
  },
  {
   "cell_type": "markdown",
   "metadata": {},
   "source": [
    "`list` is another special name in Python, so `lst` is commonly used to name a list variable (only if a more specific name isn't appropriate!).\n",
    "\n",
    "Notice that I've included a doctring. Every function you ever write should have a docstring. Yours don't have to be as formal as mine, but a stranger should be able to read it and understand what your function does. Remember that you can read a functions docstring with `help` or `?`."
   ]
  },
  {
   "cell_type": "code",
   "execution_count": 5,
   "metadata": {},
   "outputs": [
    {
     "name": "stdout",
     "output_type": "stream",
     "text": [
      "Help on function my_sum in module __main__:\n",
      "\n",
      "my_sum(lst)\n",
      "    Add up the values in a list.\n",
      "    \n",
      "    Arguments\n",
      "        lst: A list of numbers.\n",
      "        \n",
      "    Returns:\n",
      "        The sum of the numbers in the list.\n",
      "\n"
     ]
    }
   ],
   "source": [
    "help(my_sum)"
   ]
  },
  {
   "cell_type": "code",
   "execution_count": 6,
   "metadata": {
    "collapsed": true
   },
   "outputs": [],
   "source": [
    "my_sum?"
   ]
  },
  {
   "cell_type": "markdown",
   "metadata": {},
   "source": [
    "Finally, I will test my function. Many books have been written on how to test code, but I'll make do by checking a few different lists with sums I know."
   ]
  },
  {
   "cell_type": "code",
   "execution_count": 7,
   "metadata": {},
   "outputs": [
    {
     "data": {
      "text/plain": [
       "5"
      ]
     },
     "execution_count": 7,
     "metadata": {},
     "output_type": "execute_result"
    }
   ],
   "source": [
    "my_sum(data)"
   ]
  },
  {
   "cell_type": "code",
   "execution_count": 8,
   "metadata": {},
   "outputs": [
    {
     "data": {
      "text/plain": [
       "10"
      ]
     },
     "execution_count": 8,
     "metadata": {},
     "output_type": "execute_result"
    }
   ],
   "source": [
    "my_sum([1] * 10)"
   ]
  },
  {
   "cell_type": "code",
   "execution_count": 9,
   "metadata": {},
   "outputs": [
    {
     "data": {
      "text/plain": [
       "45"
      ]
     },
     "execution_count": 9,
     "metadata": {},
     "output_type": "execute_result"
    }
   ],
   "source": [
    "my_sum(range(10))"
   ]
  },
  {
   "cell_type": "code",
   "execution_count": 10,
   "metadata": {},
   "outputs": [
    {
     "data": {
      "text/plain": [
       "4.4"
      ]
     },
     "execution_count": 10,
     "metadata": {},
     "output_type": "execute_result"
    }
   ],
   "source": [
    "my_sum([-1.1, 2.2, 3.3])"
   ]
  },
  {
   "cell_type": "code",
   "execution_count": 12,
   "metadata": {},
   "outputs": [
    {
     "data": {
      "text/plain": [
       "(1+3j)"
      ]
     },
     "execution_count": 12,
     "metadata": {},
     "output_type": "execute_result"
    }
   ],
   "source": [
    "my_sum([1j, 2+2j, -1])"
   ]
  },
  {
   "cell_type": "markdown",
   "metadata": {},
   "source": [
    "#### For Loop Without an Index\n",
    "\n",
    "The previous code works perfectly well, but Python provides an easier way to iterate over a list. Notice that I didn't really care about the index `i` in my code. I only used `i` to get a value from the list, and Python's `for` loop lets me skip that middle step. I can iterate over the values in the list directly like so\n",
    "\n",
    "```python\n",
    "for value in data:\n",
    "```\n",
    "\n",
    "I can now rewrite my earlier loop a bit more simply."
   ]
  },
  {
   "cell_type": "code",
   "execution_count": 13,
   "metadata": {},
   "outputs": [
    {
     "name": "stdout",
     "output_type": "stream",
     "text": [
      "5\n"
     ]
    }
   ],
   "source": [
    "s = 0\n",
    "\n",
    "for value in data:\n",
    "    s += value\n",
    "    \n",
    "print(s)"
   ]
  },
  {
   "cell_type": "markdown",
   "metadata": {},
   "source": [
    "Notice that the `for` loop knows when to stop, so I can't mix up the final index of the list.\n",
    "\n",
    "I can rewrite my function as well."
   ]
  },
  {
   "cell_type": "code",
   "execution_count": 14,
   "metadata": {
    "collapsed": true
   },
   "outputs": [],
   "source": [
    "def my_sum(lst):\n",
    "    \"\"\"Add up the values in a list.\n",
    "    \n",
    "    Arguments\n",
    "        lst: A list of numbers.\n",
    "        \n",
    "    Returns:\n",
    "        The sum of the numbers in the list.\n",
    "    \"\"\"\n",
    "    s = 0\n",
    "    \n",
    "    for value in lst:\n",
    "        s += value\n",
    "        \n",
    "    return s"
   ]
  },
  {
   "cell_type": "markdown",
   "metadata": {},
   "source": [
    "I'll run a few tests, just to make sure I *actually* didn't change anything."
   ]
  },
  {
   "cell_type": "code",
   "execution_count": 15,
   "metadata": {},
   "outputs": [
    {
     "data": {
      "text/plain": [
       "5"
      ]
     },
     "execution_count": 15,
     "metadata": {},
     "output_type": "execute_result"
    }
   ],
   "source": [
    "my_sum(data)"
   ]
  },
  {
   "cell_type": "code",
   "execution_count": 16,
   "metadata": {},
   "outputs": [
    {
     "data": {
      "text/plain": [
       "4.4"
      ]
     },
     "execution_count": 16,
     "metadata": {},
     "output_type": "execute_result"
    }
   ],
   "source": [
    "my_sum([-1.1, 2.2, 3.3])"
   ]
  },
  {
   "cell_type": "markdown",
   "metadata": {},
   "source": [
    "#### Python Built-In\n",
    "\n",
    "Summing a list is such a common task that Python has a built-in function for it: `sum`."
   ]
  },
  {
   "cell_type": "code",
   "execution_count": 17,
   "metadata": {},
   "outputs": [
    {
     "data": {
      "text/plain": [
       "5"
      ]
     },
     "execution_count": 17,
     "metadata": {},
     "output_type": "execute_result"
    }
   ],
   "source": [
    "sum(data)"
   ]
  },
  {
   "cell_type": "code",
   "execution_count": 18,
   "metadata": {},
   "outputs": [
    {
     "data": {
      "text/plain": [
       "4.4"
      ]
     },
     "execution_count": 18,
     "metadata": {},
     "output_type": "execute_result"
    }
   ],
   "source": [
    "sum([-1.1, 2.2, 3.3])"
   ]
  },
  {
   "cell_type": "markdown",
   "metadata": {},
   "source": [
    "Notice that `sum` is coloured green in a code cell. Jupyter notebooks highlight all Python special words like that."
   ]
  },
  {
   "cell_type": "code",
   "execution_count": 19,
   "metadata": {},
   "outputs": [
    {
     "data": {
      "text/plain": [
       "(<function sum>, list, <function abs>, <function min>, int)"
      ]
     },
     "execution_count": 19,
     "metadata": {},
     "output_type": "execute_result"
    }
   ],
   "source": [
    "sum, list, abs, min, int"
   ]
  },
  {
   "cell_type": "markdown",
   "metadata": {},
   "source": [
    "### Your Mean Function\n",
    "\n",
    "Now you will write a function to calculate the mean of a list of numbers. You can write your own code to sum the list, or use Python's built-in `sum` function. I have provided a template to fill in, as well as some tests."
   ]
  },
  {
   "cell_type": "code",
   "execution_count": 20,
   "metadata": {
    "collapsed": true
   },
   "outputs": [],
   "source": [
    "def mean(lst):\n",
    "    \"\"\"docstring\"\"\"\n",
    "    return 0"
   ]
  },
  {
   "cell_type": "code",
   "execution_count": 21,
   "metadata": {},
   "outputs": [
    {
     "data": {
      "text/plain": [
       "0"
      ]
     },
     "execution_count": 21,
     "metadata": {},
     "output_type": "execute_result"
    }
   ],
   "source": [
    "mean(data)"
   ]
  },
  {
   "cell_type": "code",
   "execution_count": 22,
   "metadata": {},
   "outputs": [
    {
     "data": {
      "text/plain": [
       "0"
      ]
     },
     "execution_count": 22,
     "metadata": {},
     "output_type": "execute_result"
    }
   ],
   "source": [
    "mean([1,2,3])"
   ]
  },
  {
   "cell_type": "code",
   "execution_count": 23,
   "metadata": {},
   "outputs": [
    {
     "data": {
      "text/plain": [
       "0"
      ]
     },
     "execution_count": 23,
     "metadata": {},
     "output_type": "execute_result"
    }
   ],
   "source": [
    "mean([1, 1, 1])"
   ]
  },
  {
   "cell_type": "code",
   "execution_count": 24,
   "metadata": {},
   "outputs": [
    {
     "data": {
      "text/plain": [
       "0"
      ]
     },
     "execution_count": 24,
     "metadata": {},
     "output_type": "execute_result"
    }
   ],
   "source": [
    "mean([-2, -1, -6])"
   ]
  },
  {
   "cell_type": "markdown",
   "metadata": {},
   "source": [
    "## Task 2: Compute the Variance"
   ]
  },
  {
   "cell_type": "markdown",
   "metadata": {},
   "source": [
    "### Description of Variance\n",
    "\n",
    "The variance of a dataset, written $\\sigma^2$ or $\\operatorname{Var}(X)$, is a measure of how spread out its values are. To compute the variance we first compute how far each value is from the mean, square those distances, then average the squares. Our example data, $X = (1, 3, 4, -5, 2)$, has mean 1, so this looks like\n",
    "\n",
    "$$\n",
    "\\operatorname{Var}(X) = \\frac{(1-1)^2 + (3-1)^2 + (4-1)^2 + (-5-1)^2 + (2-1)^2}{5} = 10 .\n",
    "$$\n",
    "\n",
    "For a general dataset with mean $\\mu$ this becomes\n",
    "\n",
    "$$\n",
    "\\operatorname{Var}(X) = \\frac{(x_0-\\mu)^2 + (x_1-\\mu)^2 + \\dots + (x_{n-1}-\\mu)^2}{n} ,\n",
    "$$\n",
    "\n",
    "or, in big-sigma notation,\n",
    "\n",
    "$$\n",
    "\\operatorname{Var}(X) = \\frac{1}{n} \\sum_{i=0}^{n-1} (x_i - \\mu)^2 .\n",
    "$$"
   ]
  },
  {
   "cell_type": "markdown",
   "metadata": {
    "collapsed": true
   },
   "source": [
    "## Task 3: Compute the Skewness"
   ]
  },
  {
   "cell_type": "markdown",
   "metadata": {},
   "source": [
    "## Task 4: Compute Arbitrary Central Moments"
   ]
  },
  {
   "cell_type": "markdown",
   "metadata": {},
   "source": [
    "## Task 5: Assemble Your Statistics Module"
   ]
  }
 ],
 "metadata": {
  "kernelspec": {
   "display_name": "Python 3",
   "language": "python",
   "name": "python3"
  },
  "language_info": {
   "codemirror_mode": {
    "name": "ipython",
    "version": 3
   },
   "file_extension": ".py",
   "mimetype": "text/x-python",
   "name": "python",
   "nbconvert_exporter": "python",
   "pygments_lexer": "ipython3",
   "version": "3.6.3"
  }
 },
 "nbformat": 4,
 "nbformat_minor": 2
}
